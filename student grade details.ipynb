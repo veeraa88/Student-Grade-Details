{
 "cells": [
  {
   "cell_type": "markdown",
   "id": "2f88c386-a581-4a6c-bff3-ffd7c393548f",
   "metadata": {},
   "source": [
    "## student grade details"
   ]
  },
  {
   "cell_type": "code",
   "execution_count": 16,
   "id": "b5678f24-31ac-4673-bcfc-3e52aaa0ec1a",
   "metadata": {},
   "outputs": [
    {
     "name": "stdin",
     "output_type": "stream",
     "text": [
      "enter your mark: 90\n"
     ]
    },
    {
     "name": "stdout",
     "output_type": "stream",
     "text": [
      "A Grade\n"
     ]
    }
   ],
   "source": [
    "mark=int(input('enter your mark:'))\n",
    "if mark >= 90:\n",
    "    print('A Grade')\n",
    "elif mark >=80 and mark <90:\n",
    "    print('B grade')\n",
    "elif mark >=70 and mark <80:\n",
    "    print('C Grade')\n",
    "elif mark >=60 and mark < 70:\n",
    "    print('D Grade')\n",
    "else:\n",
    "    print('E Grade')"
   ]
  },
  {
   "cell_type": "code",
   "execution_count": null,
   "id": "8d9a1abc-0997-4a3a-a28e-720e5c2dd895",
   "metadata": {},
   "outputs": [],
   "source": []
  },
  {
   "cell_type": "code",
   "execution_count": null,
   "id": "c1db0b95-d542-4b12-88f5-80984418b452",
   "metadata": {},
   "outputs": [],
   "source": []
  }
 ],
 "metadata": {
  "kernelspec": {
   "display_name": "Python [conda env:base] *",
   "language": "python",
   "name": "conda-base-py"
  },
  "language_info": {
   "codemirror_mode": {
    "name": "ipython",
    "version": 3
   },
   "file_extension": ".py",
   "mimetype": "text/x-python",
   "name": "python",
   "nbconvert_exporter": "python",
   "pygments_lexer": "ipython3",
   "version": "3.12.7"
  }
 },
 "nbformat": 4,
 "nbformat_minor": 5
}
